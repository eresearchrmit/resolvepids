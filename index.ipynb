{
 "cells": [
  {
   "cell_type": "markdown",
   "metadata": {},
   "source": [
    "# Resolve PIDS\n",
    "\n",
    "Ian Thomas\n",
    "Research Capability Unit, \n",
    "RMIT University\n",
    "\n",
    "\n",
    "## Introduction\n",
    "\n",
    "The script takes a list of library persistent identifiers (e.g., ISBN, LCCN) and return the corresponding\n",
    "data from the [openlibary.org](http://openlibrary.org).  It creates a CSV file with selected fields, with blank lines for missing data.\n",
    "\n",
    "## Instructions\n",
    "\n",
    "Replace the list of PIDS in the next cell with one PID per line with the correct prefix."
   ]
  },
  {
   "cell_type": "code",
   "execution_count": 31,
   "metadata": {},
   "outputs": [],
   "source": [
    "\n",
    "pids = \"\"\"\n",
    "    ISBN:9780980200447\n",
    "    LCCN:93005405\n",
    "    ISBN:123141244124\n",
    "    \"\"\""
   ]
  },
  {
   "cell_type": "markdown",
   "metadata": {},
   "source": [
    "When you are ready, select the above cell and press the run button above to advance through the next cell. Press that button to advance through the next cell and wait for output.\n",
    "\n",
    "When it completes you will see a new file in left hand side panel. Select that CSV file and download to your desktop.\n"
   ]
  },
  {
   "cell_type": "code",
   "execution_count": null,
   "metadata": {},
   "outputs": [],
   "source": [
    "import csv\n",
    "import sys\n",
    "import json\n",
    "from jsonpath_rw import jsonpath, parse\n",
    "from time import sleep\n",
    "import requests\n",
    "import random\n",
    "import logging\n",
    "from pprint import pformat\n",
    "from IPython.display import display\n",
    "\n",
    "logger = logging.getLogger(__name__)\n",
    "\n",
    "#logging.basicConfig(level=logging.DEBUG)\n",
    "logging.basicConfig(level=logging.INFO)\n",
    "\n",
    "# The query for openlibrary {} is replaced with the pids\n",
    "query_template = \"https://openlibrary.org/api/books?bibkeys={}&jscmd=data&format=json\"\n",
    "\n",
    "# The set of patterns for selecting which fields in the response to put into the csv\n",
    "# Uses the jsonpath schema: http://goessner.net/articles/JsonPath/\n",
    "paths = [\n",
    "    (\"$.*.title\", \"Title\"),\n",
    "    (\"$.*.authors[*].name\", \"Author(s) Name\"),\n",
    "    (\"$.*.publish_date\", \"Publish Date\"),\n",
    "    (\"$.*.url\",\"URL\")\n",
    "    ]\n",
    "\n",
    "output_file = \"final.csv\"\n",
    "pid_column_name = \"pid\"\n",
    "\n",
    "# Try to find parse errors earlier\n",
    "for path,pname in paths:\n",
    "    try:\n",
    "        jsonpath_expr = parse(path)\n",
    "        value = [match.value for match in jsonpath_expr.find([])]\n",
    "    except Exception as e:\n",
    "        logger.error(f\"Possible path error in {path} gave error: {repr(e)}\")\n",
    "        raise e\n",
    "\n",
    "pids_list =  pids.split()\n",
    "logger.info(f\"Pids to Check: {', '.join(pids_list)}\")\n",
    "logger.info(\"checking...\")\n",
    "# TODO: Check api encoding \n",
    "results = []\n",
    "for pid in pids_list:\n",
    "    trim_pids = pid.strip() # remove trailing whitespace\n",
    "    query = query_template.format(trim_pids)\n",
    "    logger.info(f\"query = {query}\")\n",
    "    # TODO: add retries for this request\n",
    "    res = requests.get(query)\n",
    "    if res:\n",
    "        results.append((trim_pids,res.json()))\n",
    "    sleep(random.randint(5,10)) # sleep to avoid flooding api\n",
    "\n",
    "logger.debug(f\"query results: {pformat(results)}\")\n",
    "\n",
    "with open(output_file, 'w') as csvfile:   \n",
    "    writer = csv.DictWriter(csvfile, fieldnames=[pid_column_name] + [pname for (p, pname) in paths])\n",
    "    writer.writeheader()\n",
    "    for pid, v in results:\n",
    "        logger.debug(f\"v={v}\")\n",
    "        row = {}\n",
    "        row[pid_column_name] = pid\n",
    "        for p,pname in paths:\n",
    "            try:\n",
    "                jsonpath_expr = parse(p)\n",
    "                value = [match.value for match in jsonpath_expr.find(v)]\n",
    "            except Exception as e:\n",
    "                logger.warning(f\"Parse error in entry {pid} gave error: {e}\")\n",
    "                value = []\n",
    "            row[pname] = ', '.join(value)\n",
    "        writer.writerow(row)\n",
    "        \n",
    "logger.info(\"Done\")"
   ]
  },
  {
   "cell_type": "code",
   "execution_count": null,
   "metadata": {},
   "outputs": [],
   "source": []
  },
  {
   "cell_type": "code",
   "execution_count": null,
   "metadata": {},
   "outputs": [],
   "source": []
  }
 ],
 "metadata": {
  "kernelspec": {
   "display_name": "Python 3",
   "language": "python",
   "name": "python3"
  },
  "language_info": {
   "codemirror_mode": {
    "name": "ipython",
    "version": 3
   },
   "file_extension": ".py",
   "mimetype": "text/x-python",
   "name": "python",
   "nbconvert_exporter": "python",
   "pygments_lexer": "ipython3",
   "version": "3.6.5"
  }
 },
 "nbformat": 4,
 "nbformat_minor": 2
}
